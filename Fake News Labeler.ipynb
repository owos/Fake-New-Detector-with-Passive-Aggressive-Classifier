{
 "metadata": {
  "language_info": {
   "codemirror_mode": {
    "name": "ipython",
    "version": 3
   },
   "file_extension": ".py",
   "mimetype": "text/x-python",
   "name": "python",
   "nbconvert_exporter": "python",
   "pygments_lexer": "ipython3",
   "version": "3.8.4-final"
  },
  "orig_nbformat": 2,
  "kernelspec": {
   "name": "python38432bitbf3c04409a4049db9163afb706488d78",
   "display_name": "Python 3.8.4 32-bit",
   "language": "python"
  }
 },
 "nbformat": 4,
 "nbformat_minor": 2,
 "cells": [
  {
   "source": [
    "This is a fakes news dector that uses Tf-Idf Vectorizer (a very common algorithm to transform text into a meaningful representation of numbers which is used to fit machine algorithm for prediction) to transform data and fit into Paasive Aggressive Classifier algorithm (read about here: https://www.geeksforgeeks.org/passive-aggressive-classifiers/#:~:text=The%20Passive%2DAggressive%20algorithms%20are,even%20intermediate%20Machine%20Learning%20enthusiasts.&text=We%20can%20simply%20say%20that,then%20throw%20away%20the%20example.) "
   ],
   "cell_type": "markdown",
   "metadata": {}
  },
  {
   "cell_type": "code",
   "execution_count": 14,
   "metadata": {},
   "outputs": [],
   "source": [
    "import numpy as np\n",
    "import pandas as pd\n",
    "import itertools\n",
    "from sklearn.model_selection import train_test_split\n",
    "from sklearn.feature_extraction.text import TfidfVectorizer\n",
    "from sklearn.linear_model import PassiveAggressiveClassifier\n",
    "from sklearn.metrics import accuracy_score, confusion_matrix"
   ]
  },
  {
   "cell_type": "code",
   "execution_count": 15,
   "metadata": {},
   "outputs": [
    {
     "output_type": "execute_result",
     "data": {
      "text/plain": [
       "        id                                              title  \\\n",
       "0      NaN                                              title   \n",
       "1   8476.0                       You Can Smell Hillary’s Fear   \n",
       "2  10294.0  Watch The Exact Moment Paul Ryan Committed Pol...   \n",
       "3   3608.0        Kerry to go to Paris in gesture of sympathy   \n",
       "4  10142.0  Bernie supporters on Twitter erupt in anger ag...   \n",
       "\n",
       "                                                text  label  \n",
       "0                                               text  label  \n",
       "1  Daniel Greenfield, a Shillman Journalism Fello...   FAKE  \n",
       "2  Google Pinterest Digg Linkedin Reddit Stumbleu...   FAKE  \n",
       "3  U.S. Secretary of State John F. Kerry said Mon...   REAL  \n",
       "4  — Kaydee King (@KaydeeKing) November 9, 2016 T...   FAKE  "
      ],
      "text/html": "<div>\n<style scoped>\n    .dataframe tbody tr th:only-of-type {\n        vertical-align: middle;\n    }\n\n    .dataframe tbody tr th {\n        vertical-align: top;\n    }\n\n    .dataframe thead th {\n        text-align: right;\n    }\n</style>\n<table border=\"1\" class=\"dataframe\">\n  <thead>\n    <tr style=\"text-align: right;\">\n      <th></th>\n      <th>id</th>\n      <th>title</th>\n      <th>text</th>\n      <th>label</th>\n    </tr>\n  </thead>\n  <tbody>\n    <tr>\n      <th>0</th>\n      <td>NaN</td>\n      <td>title</td>\n      <td>text</td>\n      <td>label</td>\n    </tr>\n    <tr>\n      <th>1</th>\n      <td>8476.0</td>\n      <td>You Can Smell Hillary’s Fear</td>\n      <td>Daniel Greenfield, a Shillman Journalism Fello...</td>\n      <td>FAKE</td>\n    </tr>\n    <tr>\n      <th>2</th>\n      <td>10294.0</td>\n      <td>Watch The Exact Moment Paul Ryan Committed Pol...</td>\n      <td>Google Pinterest Digg Linkedin Reddit Stumbleu...</td>\n      <td>FAKE</td>\n    </tr>\n    <tr>\n      <th>3</th>\n      <td>3608.0</td>\n      <td>Kerry to go to Paris in gesture of sympathy</td>\n      <td>U.S. Secretary of State John F. Kerry said Mon...</td>\n      <td>REAL</td>\n    </tr>\n    <tr>\n      <th>4</th>\n      <td>10142.0</td>\n      <td>Bernie supporters on Twitter erupt in anger ag...</td>\n      <td>— Kaydee King (@KaydeeKing) November 9, 2016 T...</td>\n      <td>FAKE</td>\n    </tr>\n  </tbody>\n</table>\n</div>"
     },
     "metadata": {},
     "execution_count": 15
    }
   ],
   "source": [
    "####Read the data that is used to train the model\n",
    "df = pd.read_csv('news.csv', names = ['id', 'title', 'text', 'label'])\n",
    "df.shape\n",
    "\n",
    "df.head()\n"
   ]
  },
  {
   "cell_type": "code",
   "execution_count": 16,
   "metadata": {},
   "outputs": [
    {
     "output_type": "execute_result",
     "data": {
      "text/plain": [
       "Index(['id', 'title', 'text', 'label'], dtype='object')"
      ]
     },
     "metadata": {},
     "execution_count": 16
    }
   ],
   "source": [
    "df.columns\n",
    "#df.iloc[2]"
   ]
  },
  {
   "cell_type": "code",
   "execution_count": 17,
   "metadata": {},
   "outputs": [
    {
     "output_type": "execute_result",
     "data": {
      "text/plain": [
       "0    label\n",
       "1     FAKE\n",
       "2     FAKE\n",
       "3     REAL\n",
       "4     FAKE\n",
       "Name: label, dtype: object"
      ]
     },
     "metadata": {},
     "execution_count": 17
    }
   ],
   "source": [
    "##getting labels\n",
    "labels=df.label\n",
    "labels.head()"
   ]
  },
  {
   "cell_type": "code",
   "execution_count": 18,
   "metadata": {},
   "outputs": [],
   "source": [
    "#Data spliting\n",
    "x_train, x_test, y_train, y_test = train_test_split(df['text'], labels, test_size=0.3, random_state = 8)\n",
    "\n",
    "\n",
    "#initializing Tfidfvectorizer\n",
    "tfidf_vectorizer= TfidfVectorizer(stop_words = 'english', max_df= 0.7)\n",
    "#fit_transform train and transform test section \n",
    "tfidf_train =tfidf_vectorizer.fit_transform(x_train)\n",
    "tfidf_test = tfidf_vectorizer.transform(x_test)\n"
   ]
  },
  {
   "cell_type": "code",
   "execution_count": 19,
   "metadata": {},
   "outputs": [
    {
     "output_type": "stream",
     "name": "stdout",
     "text": [
      "Accuracy: 93.0%\n"
     ]
    }
   ],
   "source": [
    "#intializing PassiveAggressiveClassifier earlier imported into pac\n",
    "pac = PassiveAggressiveClassifier(max_iter=50)\n",
    "#then we fit in the splited data\n",
    "pac.fit(tfidf_train, y_train)\n",
    "#predicting and calculating accuracy i.e scoring\n",
    "y_pred= pac.predict(tfidf_test)\n",
    "score= accuracy_score(y_test, y_pred)\n",
    "#print the rounded score of the accuracy testing\n",
    "print(f'Accuracy: {round(score * 100, 2)}%')\n"
   ]
  },
  {
   "cell_type": "code",
   "execution_count": 20,
   "metadata": {},
   "outputs": [
    {
     "output_type": "execute_result",
     "data": {
      "text/plain": [
       "array([[878,  55],\n",
       "       [ 78, 890]], dtype=int64)"
      ]
     },
     "metadata": {},
     "execution_count": 20
    }
   ],
   "source": [
    "#After getting an accuracy of 93.69% we can now print our a confusion matrix\n",
    "confusion_matrix(y_test, y_pred, labels=['FAKE', 'REAL'])\n"
   ]
  },
  {
   "cell_type": "code",
   "execution_count": 21,
   "metadata": {},
   "outputs": [],
   "source": [
    "# So for this newly created model, we have 897 true positive, 884 true negative, 70, false positive and 50 false negative."
   ]
  }
 ]
}